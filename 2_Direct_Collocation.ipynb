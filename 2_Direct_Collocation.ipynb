{
 "cells": [
  {
   "cell_type": "markdown",
   "metadata": {},
   "source": [
    "# Direct Collocation\n",
    "\n",
    "## Goal\n",
    "* Go through Python/CasADi implementations for the direct collocation trajectory optimization examples given in Matthew Kelly's tutorial for trajectory optimization \\[1\\].\n",
    "* \\[1\\] goes through the theoretical aspects of direction collocation which will not be discussed here. Instead, this notebook will aim to a give hands-on introduction to implementing the methods discussed there in Python, instead of the MATLAB implementation that Matthew Kelly provides.\n",
    "\n",
    "## References\n",
    "* \\[1\\] [An Introduction to TrajectoryOptimization: How to Do YourOwn Direct Collocation](https://epubs.siam.org/doi/pdf/10.1137/16M1062569) - Matthew Kelly's excellent tutorial, on which all of the contents on this notebook are based off of\n",
    "\n",
    "## Notation\n",
    "For the most part, this notebook will follow the notations given in \\[1\\]:\n",
    "![kelly_notation](img/kelly_notation.png)"
   ]
  },
  {
   "cell_type": "code",
   "execution_count": null,
   "metadata": {},
   "outputs": [],
   "source": [
    "# Import libraries. Install them through pip, conda, etc as necessary\n",
    "import numpy as np\n",
    "import casadi as ca\n",
    "import matplotlib.pyplot as plt"
   ]
  },
  {
   "cell_type": "markdown",
   "metadata": {},
   "source": [
    "## Block Move - Trapezoidal Collocation (Sec. 2)\n",
    "\n",
    "We will begin by implementing the first and simplest trajectory optimization problem given in \\[1\\] - the block move problem:\n",
    "\n",
    "![kelly_blockmove](img/kelly_blockmove.png)"
   ]
  },
  {
   "cell_type": "markdown",
   "metadata": {},
   "source": [
    "We begin with trapezoidal collocation, since it is the simpler of the two methods discussed in \\[1\\]. We start by defining some constants for the problem, and initializing our opti object."
   ]
  },
  {
   "cell_type": "code",
   "execution_count": null,
   "metadata": {},
   "outputs": [],
   "source": [
    "# parameters\n",
    "tf = 1.0 #final time\n",
    "N = 20 #number of trajectory segments\n",
    "\n",
    "# initialize NLP\n",
    "opti = ca.Opti()"
   ]
  },
  {
   "cell_type": "markdown",
   "metadata": {},
   "source": [
    "Next, we define decision variables, which are the position, velocity, and force applied to the block at each timestep. Note that these decision variables have left and right endpoints for each trajectory segments, so they have dimension $N+1$ rather than $N$. Additionally, we define the variable indicating the time at each timestep, which is not strictly required but is convenient to define."
   ]
  },
  {
   "cell_type": "code",
   "execution_count": null,
   "metadata": {},
   "outputs": [],
   "source": [
    "# decision variables\n",
    "X = opti.variable(N+1)\n",
    "V = opti.variable(N+1)\n",
    "U = opti.variable(N+1)\n",
    "\n",
    "# time discretization\n",
    "t = np.linspace(0, tf, N+1)"
   ]
  },
  {
   "cell_type": "markdown",
   "metadata": {},
   "source": [
    "We first apply the boundary constraints given by (2.7) of \\[1\\]:\n",
    "![kelly_blockmove_trapz_boundary](img/kelly_blockmove_trapz_boundary.png)"
   ]
  },
  {
   "cell_type": "code",
   "execution_count": null,
   "metadata": {},
   "outputs": [],
   "source": [
    "# boundary constraints\n",
    "opti.subject_to( X[0] == 0 )\n",
    "opti.subject_to( X[N] == 1 )\n",
    "opti.subject_to( V[0] == 0 )\n",
    "opti.subject_to( V[N] == 0 )"
   ]
  },
  {
   "cell_type": "markdown",
   "metadata": {},
   "source": [
    "We now iterate through each trajectory segment, applying collocation constraints and generating the cost function.\n",
    "\n",
    "The collocation constraints are given by equation (2.5) and (2.6) of \\[1\\]:\n",
    "![kelly_blockmove_trapz_colloc](img/kelly_blockmove_trapz_colloc.png)\n",
    "\n",
    "The optimization objective given by (2.8) of \\[1\\]:\n",
    "![kelly_blockmove_trapz_objective](img/kelly_blockmove_trapz_objective.png)"
   ]
  },
  {
   "cell_type": "code",
   "execution_count": null,
   "metadata": {},
   "outputs": [],
   "source": [
    "# variable for storing the cost function\n",
    "J = 0;\n",
    "\n",
    "# iterate over all k = 0,..., N-1. Note that we don't include index N\n",
    "for i in range(N):\n",
    "    x_left = X[i]; x_right = X[i+1]\n",
    "    v_left = V[i]; v_right = V[i+1]\n",
    "    u_left = U[i]; u_right = U[i+1]\n",
    "    \n",
    "    # collocation constraints\n",
    "    opti.subject_to( x_right-x_left == 0.5*tf/N*(v_right+v_left) )\n",
    "    opti.subject_to( v_right-v_left == 0.5*tf/N*(u_right+u_left) )\n",
    "    \n",
    "    # cost function\n",
    "    J += 0.5*tf/N*(u_left**2 + u_right**2)\n",
    "\n",
    "# apply cost function to opti\n",
    "opti.minimize(J)"
   ]
  },
  {
   "cell_type": "markdown",
   "metadata": {},
   "source": [
    "Next, we specify an initial guess solution of our NLP, given by (2.12) of \\[1\\]:\n",
    "![kelly_blockmove_trapz_init](img/kelly_blockmove_trapz_init.png)"
   ]
  },
  {
   "cell_type": "code",
   "execution_count": null,
   "metadata": {},
   "outputs": [],
   "source": [
    "# initial guess\n",
    "opti.set_initial(X, t)\n",
    "opti.set_initial(V, np.full(V.shape, 1))\n",
    "opti.set_initial(U, np.zeros(U.shape))"
   ]
  },
  {
   "cell_type": "markdown",
   "metadata": {},
   "source": [
    "Finally, we solve the NLP and see what the solution looks like"
   ]
  },
  {
   "cell_type": "code",
   "execution_count": null,
   "metadata": {},
   "outputs": [],
   "source": [
    "# solve\n",
    "opti.solver('ipopt')\n",
    "sol = opti.solve()\n",
    "\n",
    "# extract solution\n",
    "sol_t = t\n",
    "sol_x = sol.value(X)\n",
    "sol_u = sol.value(U)\n",
    "\n",
    "# plot\n",
    "fig, ax = plt.subplots(nrows=2, ncols=1)\n",
    "ax[0].plot(sol_t, sol_x, 'o')\n",
    "ax[0].set_title('Position')\n",
    "ax[1].plot(sol_t, np.squeeze(sol_u), 'o')\n",
    "ax[1].set_title('Control')\n",
    "plt.show()"
   ]
  },
  {
   "cell_type": "markdown",
   "metadata": {},
   "source": [
    "## Block Move - Hermite-Simpson Collocation (Sec. 4)\n",
    "Now that we've gone through the simplest example of direct collocation via casadi, we can refine our method now through Hermite-Simpson collocation. We will still solve the same block move example, but will now use a more general method of defining variables that can easily be scaled to much more complex robotic systems.\n",
    "\n",
    "The implementation below is almost complete. Your task is to complete it by implementing collocation and interpolation constraints, respectively given by equations (4.3) and (4.4):\n",
    "![kelly_colloc_constraint](img/kelly_colloc_constraint.png)\n",
    "![kelly_interp_constraint](img/kelly_interp_constraint.png)\n",
    "\n",
    "Note that the framework below was designed to be used with the seperated form of Hermite-Simpson collocation, which is supposedly better if the number of time segments is small \\[1\\] (Sec. 4.2)."
   ]
  },
  {
   "cell_type": "code",
   "execution_count": null,
   "metadata": {},
   "outputs": [],
   "source": [
    "# parameters\n",
    "tf = 1.0 #final time\n",
    "N = 10 #number of trajectory segments\n",
    "nx = 2 #dimension of state vector\n",
    "nu = 1 #dimension of control vector\n",
    "\n",
    "# initialize NLP\n",
    "opti = ca.Opti()\n",
    "\n",
    "# decision variables + time discretization\n",
    "X = opti.variable(nx, 2*N+1)\n",
    "U = opti.variable(nu, 2*N+1)\n",
    "t = np.linspace(0, tf, 2*N+1)\n",
    "\n",
    "# dynamics\n",
    "def derive_dynamics():\n",
    "    # dynamics derivations are put into its own function so temporary SX variables can be defined\n",
    "    x = ca.SX.sym('x', nx)\n",
    "    u = ca.SX.sym('u', nu)\n",
    "    xdot = ca.vertcat(x[1], u)\n",
    "    f = ca.Function('f', [x,u], [xdot])\n",
    "    return f\n",
    "f = derive_dynamics()\n",
    "\n",
    "# objective\n",
    "simp = np.array([[4*(i%2)+2*((i+1)%2) for i in range(2*N+1)]]) # simpson quadrature coefficient vector\n",
    "simp[0][0]=1\n",
    "simp[0][-1]=1\n",
    "J = ca.dot(simp, U[:,:]*U[:,:])\n",
    "opti.minimize(J)\n",
    "\n",
    "# boundary constraints\n",
    "opti.subject_to( X[:,0] == np.array([0, 0]) )\n",
    "opti.subject_to( X[:,-1] == np.array([1, 0]) )\n",
    "\n",
    "# dynamics constraints\n",
    "for i in range(2*N+1):\n",
    "    if i%2 != 0:\n",
    "        x_left, x_mid, x_right = X[:,i-1], X[:,i], X[:,i+1]\n",
    "        u_left, u_mid, u_right = U[:,i-1], U[:,i], U[:,i+1]\n",
    "        f_left, f_mid, f_right = f(x_left,u_left), f(x_mid,u_mid), f(x_right,u_right)\n",
    "\n",
    "        # interpolation constraint\n",
    "        # TODO: implement eq. 4.4\n",
    "        # note that index k corresponds to the midpoint, k-1 to the left endpoint, and k+1 to the right\n",
    "        # endpoint of the current finite element\n",
    "        \n",
    "        # collocation constraint\n",
    "        # TODO: implement eq. 4.3\n",
    "\n",
    "# initial guess\n",
    "opti.set_initial(X, np.vstack((t, np.full(t.shape, 1))))\n",
    "opti.set_initial(U, np.zeros(U.shape))"
   ]
  },
  {
   "cell_type": "code",
   "execution_count": null,
   "metadata": {},
   "outputs": [],
   "source": [
    "# solve\n",
    "opti.solver('ipopt')\n",
    "sol = opti.solve()\n",
    "\n",
    "# extract solution\n",
    "sol_t = t\n",
    "sol_x = sol.value(X)\n",
    "sol_u = sol.value(U)\n",
    "\n",
    "# plot\n",
    "fig, ax = plt.subplots(nrows=2, ncols=1)\n",
    "ax[0].plot(sol_t, sol_x[0], 'o')\n",
    "ax[0].set_title('Position')\n",
    "ax[1].plot(sol_t, np.squeeze(sol_u), 'o')\n",
    "ax[1].set_title('Control')\n",
    "plt.show()"
   ]
  },
  {
   "cell_type": "markdown",
   "metadata": {},
   "source": [
    "## Cartpole (Sec. 6)\n",
    "\n",
    "Now we are ready to implement Hermite-Simpson collocation for the carpole swing up problem.\n",
    "\n",
    "![kelly_cartpole](img/kelly_cartpole.png)\n",
    "\n",
    "![kelly_cartpole_NLP](img/kelly_cartpole_NLP.png)\n",
    "\n",
    "Your task is, given the framework given below, fill in the sections indicated with `TODO`. Note that because of the generality of the programming method used in the blockmove Hermite-Simpson implementation, most of the code looks the same as before.\n",
    "\n",
    "One thing to note is that the derivation of the dynamics follows that given in [Russ Tedrake's notes on Underactuated Robotics](http://underactuated.mit.edu/acrobot.html#cart_pole), which is different from the scalar method given in \\[1\\]. This form of formulating dynamics, where you apply Lagrangian mechanics to obtain the equations of motion in standard manipulator equation form, can be directly applied to much more complicated robotic systems."
   ]
  },
  {
   "cell_type": "code",
   "execution_count": null,
   "metadata": {},
   "outputs": [],
   "source": [
    "# parameters\n",
    "tf = 2.0 #final time\n",
    "N = 25 #number of trajectory segments\n",
    "nx = 4 #dimension of state vector\n",
    "nu = 1 #dimension of control vector\n",
    "\n",
    "x_init = [0.0, 0.0, 0.0, 0.0] #intial state\n",
    "x_final = [1.0, np.pi, 0.0, 0.0] #final state\n",
    "\n",
    "m1 = 1.0 #cart mass\n",
    "m2 = 0.3 #pendulum mass\n",
    "l = 0.5 #pendulum length\n",
    "g = 9.81 #gravity\n",
    "u_max = 10.0 #maximum actuator force\n",
    "d_max = 2.0 #extent of rail that cart travels on\n",
    "\n",
    "# initialize NLP\n",
    "opti = ca.Opti()\n",
    "\n",
    "# decision variables + time discretization\n",
    "X = opti.variable(nx, 2*N+1)\n",
    "U = opti.variable(nu, 2*N+1)\n",
    "t = np.linspace(0, tf, 2*N+1)\n",
    "\n",
    "# dynamics\n",
    "def derive_dynamics():\n",
    "    # dynamics derivations are put into its own function so temporary SX variables can be defined\n",
    "    x = ca.SX.sym('x', nx)\n",
    "    u = ca.SX.sym('u', nu)\n",
    "    M = ca.SX(np.array([ \\\n",
    "        [m1 + m2, m2*l*ca.cos(x[1])],\n",
    "        [m2*l*ca.cos(x[1]), m2*l**2]\n",
    "        ]))\n",
    "    C = ca.SX(np.array([ \\\n",
    "        [0.0, -m2*l*x[3]*ca.sin(x[1])],\n",
    "        [0.0, 0.0]\n",
    "        ]))\n",
    "    tau_g = ca.SX(np.array([ \\\n",
    "        [0.0],\n",
    "        [-m2*g*l*ca.sin(x[1])]\n",
    "        ]))\n",
    "    B = ca.SX(np.array([ \\\n",
    "        [1.0],\n",
    "        [0.0]\n",
    "        ]))\n",
    "    xdot = ca.vertcat( \\\n",
    "        x[2:],\n",
    "        ca.solve(M, -C@x[2:]+tau_g+B@u)\n",
    "        )\n",
    "    f = ca.Function('f', [x,u], [xdot])\n",
    "    return f\n",
    "f = derive_dynamics()\n",
    "\n",
    "# objective\n",
    "simp = np.array([[4*(i%2)+2*((i+1)%2) for i in range(2*N+1)]]) # simpson quadrature coefficient vector\n",
    "simp[0][0]=1\n",
    "simp[0][-1]=1\n",
    "J = ca.dot(simp, U[:,:]*U[:,:])\n",
    "opti.minimize(J)\n",
    "\n",
    "# boundary constraints\n",
    "opti.subject_to( X[:,0] == x_init )\n",
    "opti.subject_to( X[:,-1] == x_final )\n",
    "\n",
    "# dynamics constraints\n",
    "for i in range(2*N+1):\n",
    "    if i%2 != 0:\n",
    "        x_left, x_mid, x_right = X[:,i-1], X[:,i], X[:,i+1]\n",
    "        u_left, u_mid, u_right = U[:,i-1], U[:,i], U[:,i+1]\n",
    "        f_left, f_mid, f_right = f(x_left,u_left), f(x_mid,u_mid), f(x_right,u_right)\n",
    "\n",
    "        # interpolation constraint\n",
    "        # TODO: implement (6.11)\n",
    "        \n",
    "        # collocation constraint\n",
    "        # TODO: implement (6.12)\n",
    "\n",
    "# path constraint on state\n",
    "# TODO: implement (6.13), using the given value of d_max\n",
    "# hint: opti.bounded could be useful here\n",
    "\n",
    "# path constraint on control\n",
    "# TODO: implement (6.14), using the given value of u_max\n",
    "# hint: opti.bounded could be useful here\n",
    "        \n",
    "#decision variable initial guess\n",
    "opti.set_initial(X, np.linspace(x_init, x_final, 2*N+1).T) #linear interpolation on state\n",
    "opti.set_initial(U, np.zeros(U.shape)) #zero control"
   ]
  },
  {
   "cell_type": "code",
   "execution_count": null,
   "metadata": {},
   "outputs": [],
   "source": [
    "# solve\n",
    "opti.solver('ipopt')\n",
    "sol = opti.solve()\n",
    "\n",
    "# extract solution\n",
    "sol_t = t\n",
    "sol_x = sol.value(X)\n",
    "sol_u = sol.value(U)\n",
    "\n",
    "# plot\n",
    "fig, ax = plt.subplots(nrows=3, ncols=1)\n",
    "ax[0].plot(sol_t, sol_x[0], 'o')\n",
    "ax[0].set_title('Position')\n",
    "ax[1].plot(sol_t, sol_x[1], 'o')\n",
    "ax[1].set_title('Angle')\n",
    "ax[2].plot(sol_t, np.squeeze(sol_u), 'o')\n",
    "ax[2].set_title('Control')\n",
    "plt.show()"
   ]
  },
  {
   "cell_type": "markdown",
   "metadata": {},
   "source": [
    "In the exercise above, hopefully you got something similar to the plot below. Note that you'll get this result even without the path constraints. Test that the path constraints are working by setting `u_max=10`. You should now get the second plot shown below (or at least this is what I got).\n",
    "![kelly_cartpole_result](img/kelly_cartpole_result.png)\n",
    "![cartpole_result_10umax](img/cartpole_result_10umax.png)"
   ]
  }
 ],
 "metadata": {
  "kernelspec": {
   "display_name": "Python 3",
   "language": "python",
   "name": "python3"
  },
  "language_info": {
   "codemirror_mode": {
    "name": "ipython",
    "version": 3
   },
   "file_extension": ".py",
   "mimetype": "text/x-python",
   "name": "python",
   "nbconvert_exporter": "python",
   "pygments_lexer": "ipython3",
   "version": "3.6.10"
  }
 },
 "nbformat": 4,
 "nbformat_minor": 4
}
